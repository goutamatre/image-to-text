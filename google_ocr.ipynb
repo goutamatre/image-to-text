{
 "cells": [
  {
   "cell_type": "code",
   "execution_count": 12,
   "id": "684c7e7f-883a-40cb-a46a-b716610e1ec8",
   "metadata": {
    "vscode": {
     "languageId": "python"
    }
   },
   "outputs": [
    {
     "name": "stdout",
     "output_type": "stream",
     "text": [
      "Selected file: ()\n"
     ]
    },
    {
     "name": "stderr",
     "output_type": "stream",
     "text": [
      "Exception in Tkinter callback\n",
      "Traceback (most recent call last):\n",
      "  File \"/tmp/ipykernel_40673/990124623.py\", line 64, in choose_image\n",
      "    messagebox.showinfo(\"Info\", \"No image selected.\")\n",
      "    ^^^^^^^^^^\n",
      "NameError: name 'messagebox' is not defined\n",
      "\n",
      "During handling of the above exception, another exception occurred:\n",
      "\n",
      "Traceback (most recent call last):\n",
      "  File \"/home/goutam/miniconda3/envs/test/lib/python3.11/tkinter/__init__.py\", line 1948, in __call__\n",
      "    return self.func(*args)\n",
      "           ^^^^^^^^^^^^^^^^\n",
      "  File \"/tmp/ipykernel_40673/990124623.py\", line 66, in choose_image\n",
      "    messagebox.showerror(\"Error\", f\"An error occurred: {e}\")\n",
      "    ^^^^^^^^^^\n",
      "NameError: name 'messagebox' is not defined\n"
     ]
    }
   ],
   "source": [
    "import tkinter as tk\n",
    "from tkinter import filedialog\n",
    "from PIL import Image, ImageTk\n",
    "from google.cloud import vision_v1\n",
    "from google.cloud.vision_v1 import types\n",
    "\n",
    "# Set the path to your Google Cloud Vision API JSON key file\n",
    "credentials_path = '/home/goutam/Downloads/clever-courier-412909-a58ab09d7051.json'\n",
    "\n",
    "\n",
    "class TextExtractorApp:\n",
    "    def __init__(self, root):\n",
    "        root.geometry(\"500x500\")\n",
    "        self.root = root\n",
    "        self.root.title(\"Text Extractor App\")\n",
    "\n",
    "        # Create widgets\n",
    "        self.label = tk.Label(\n",
    "            root, text=\"Choose an image:\", font=('Arial', 15))\n",
    "        self.label.pack(padx=100, pady=10)\n",
    "\n",
    "        self.choose_button = tk.Button(self.root, text=\"Choose Image\", font=(\n",
    "            'Arial', 15), command=self.choose_image)\n",
    "        self.choose_button.pack(pady=20)\n",
    "\n",
    "        self.image_label = tk.Label(root)\n",
    "        self.image_label.pack()\n",
    "\n",
    "        self.result_label = tk.Label(root, text=\"Processed Text:\")\n",
    "        self.result_label.pack(pady=10)\n",
    "\n",
    "        self.result_text = tk.Text(root, height=40, width=40)\n",
    "        self.result_text.pack(pady=10)\n",
    "\n",
    "        # Initialize Google Cloud Vision API client\n",
    "        self.client = vision_v1.ImageAnnotatorClient.from_service_account_file(\n",
    "            credentials_path)\n",
    "\n",
    "    \n",
    "    def choose_image(self):\n",
    "        if not self.client:\n",
    "            messagebox.showerror(\"Error\", \"Google Cloud Vision client not initialized.\")\n",
    "            return\n",
    "        \n",
    "        try:\n",
    "            file_path = filedialog.askopenfilename(\n",
    "                initialdir=\"/\",  \n",
    "                title=\"Select an image file\",\n",
    "                filetypes=[(\"Image files\", \"png;jpg;jpeg\"), (\"All files\", \"*.*\")])\n",
    "            \n",
    "            # Debug print to check if file_path is correctly retrieved\n",
    "            print(f\"Selected file: {file_path}\")\n",
    "\n",
    "            if file_path:\n",
    "                self.display_image(file_path)\n",
    "                text = self.extract_text(file_path)\n",
    "                \n",
    "                # Debug print to check the extracted text\n",
    "                print(f\"Extracted text: {text}\")\n",
    "    \n",
    "                self.result_text.delete(1.0, tk.END)\n",
    "                self.result_text.insert(tk.END, text)\n",
    "            else:\n",
    "                messagebox.showinfo(\"Info\", \"No image selected.\")\n",
    "        except Exception as e:\n",
    "            messagebox.showerror(\"Error\", f\"An error occurred: {e}\")\n",
    "\n",
    "\n",
    "    \n",
    "    # def choose_image(self):\n",
    "    #     file_path = filedialog.askopenfilename(\n",
    "    #         filetypes=[(\"Image files\", \"*.png;*.jpg;\")])\n",
    "    #     if file_path:\n",
    "    #         self.display_image(file_path)\n",
    "    #         text = self.extract_text(file_path)\n",
    "    #         self.result_text.delete(1.0, tk.END)\n",
    "    #         self.result_text.insert(tk.END, text)\n",
    "\n",
    "\n",
    "\n",
    "    \n",
    "    def display_image(self, file_path):\n",
    "        image = Image.open(file_path)\n",
    "        image = image.resize((250, 250))  # Resize for better display\n",
    "        photo = ImageTk.PhotoImage(image)\n",
    "        self.image_label.config(image=photo)\n",
    "        self.image_label.image = photo\n",
    "\n",
    "    def extract_text(self, file_path):\n",
    "        with open(file_path, 'rb') as image_file:\n",
    "            content = image_file.read()\n",
    "\n",
    "        image = types.Image(content=content)\n",
    "        response = self.client.text_detection(image=image)\n",
    "        texts = response.text_annotations\n",
    "\n",
    "        if texts:\n",
    "            return texts[0].description\n",
    "        else:\n",
    "            return \"No text found\"\n",
    "\n",
    "\n",
    "if __name__ == \"__main__\":\n",
    "    root = tk.Tk()\n",
    "    app = TextExtractorApp(root)\n",
    "    root.mainloop()"
   ]
  },
  {
   "cell_type": "code",
   "execution_count": null,
   "id": "72fd86b0-3a90-4634-83d9-d4f5526da91a",
   "metadata": {
    "vscode": {
     "languageId": "python"
    }
   },
   "outputs": [],
   "source": []
  }
 ],
 "metadata": {
  "kernelspec": {
   "display_name": "Python 3 (ipykernel)",
   "language": "python",
   "name": "python3"
  },
  "language_info": {
   "codemirror_mode": {
    "name": "ipython",
    "version": 3
   },
   "file_extension": ".py",
   "mimetype": "text/x-python",
   "name": "python",
   "nbconvert_exporter": "python",
   "pygments_lexer": "ipython3",
   "version": "3.11.4"
  }
 },
 "nbformat": 4,
 "nbformat_minor": 5
}
