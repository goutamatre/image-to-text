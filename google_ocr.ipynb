{
 "cells": [
  {
   "cell_type": "code",
   "execution_count": null,
   "id": "684c7e7f-883a-40cb-a46a-b716610e1ec8",
   "metadata": {
    "vscode": {
     "languageId": "python"
    }
   },
   "outputs": [],
   "source": [
    "import tkinter as tk\n",
    "from tkinter import filedialog, messagebox\n",
    "from PIL import Image, ImageTk\n",
    "from google.cloud import vision_v1\n",
    "from google.cloud.vision_v1 import types\n",
    "\n",
    "# Set the path to your Google Cloud Vision API JSON key file\n",
    "credentials_path = '/home/goutam/Downloads/clever-courier-412909-a58ab09d7051.json'\n",
    "\n",
    "\n",
    "class TextExtractorApp:\n",
    "    def __init__(self, root):\n",
    "        self.root = root\n",
    "        self.root.geometry(\"500x600\")\n",
    "        self.root.title(\"Text Extractor App\")\n",
    "\n",
    "        # Create widgets\n",
    "        self.label = tk.Label(root, text=\"Choose an image:\", font=('Arial', 15))\n",
    "        self.label.pack(padx=100, pady=10)\n",
    "\n",
    "        self.choose_button = tk.Button(self.root, text=\"Choose Image\", font=('Arial', 15), command=self.choose_image)\n",
    "        self.choose_button.pack(pady=20)\n",
    "\n",
    "        self.image_label = tk.Label(root)\n",
    "        self.image_label.pack(pady=10)\n",
    "\n",
    "        self.result_label = tk.Label(root, text=\"Processed Text:\", font=('Arial', 12))\n",
    "        self.result_label.pack(pady=10)\n",
    "\n",
    "        self.result_text = tk.Text(root, height=15, width=50)\n",
    "        self.result_text.pack(pady=10)\n",
    "\n",
    "        # Initialize Google Cloud Vision API client\n",
    "        try:\n",
    "            self.client = vision_v1.ImageAnnotatorClient.from_service_account_file(credentials_path)\n",
    "        except Exception as e:\n",
    "            messagebox.showerror(\"Error\", f\"Failed to initialize Google Cloud Vision client: {e}\")\n",
    "            self.client = None\n",
    "\n",
    "    def choose_image(self):\n",
    "        if not self.client:\n",
    "            messagebox.showerror(\"Error\", \"Google Cloud Vision client not initialized.\")\n",
    "            return\n",
    "\n",
    "        try:\n",
    "            file_path = filedialog.askopenfilename(\n",
    "                initialdir=\"/\",\n",
    "                title=\"Select an image file\",\n",
    "                filetypes=[(\"Image files\", \"*.png;*.jpg;*.jpeg\"), (\"All files\", \"*.*\")]\n",
    "            )\n",
    "\n",
    "            if file_path:\n",
    "                self.display_image(file_path)\n",
    "                text = self.extract_text(file_path)\n",
    "                self.result_text.delete(1.0, tk.END)\n",
    "                self.result_text.insert(tk.END, text)\n",
    "            else:\n",
    "                messagebox.showinfo(\"Info\", \"No image selected.\")\n",
    "        except Exception as e:\n",
    "            messagebox.showerror(\"Error\", f\"An error occurred: {e}\")\n",
    "\n",
    "    def display_image(self, file_path):\n",
    "        image = Image.open(file_path)\n",
    "        image = image.resize((250, 250))\n",
    "        photo = ImageTk.PhotoImage(image)\n",
    "        self.image_label.config(image=photo)\n",
    "        self.image_label.image = photo\n",
    "\n",
    "    def extract_text(self, file_path):\n",
    "        try:\n",
    "            with open(file_path, 'rb') as image_file:\n",
    "                content = image_file.read()\n",
    "\n",
    "            image = types.Image(content=content)\n",
    "            response = self.client.text_detection(image=image)\n",
    "            texts = response.text_annotations\n",
    "\n",
    "            if texts:\n",
    "                return texts[0].description.strip()\n",
    "            else:\n",
    "                return \"No text found.\"\n",
    "        except Exception as e:\n",
    "            return f\"An error occurred during text extraction: {e}\"\n",
    "\n",
    "\n",
    "if __name__ == \"__main__\":\n",
    "    root = tk.Tk()\n",
    "    app = TextExtractorApp(root)\n",
    "    root.mainloop()\n"
   ]
  },
  {
   "cell_type": "code",
   "execution_count": null,
   "id": "72fd86b0-3a90-4634-83d9-d4f5526da91a",
   "metadata": {
    "vscode": {
     "languageId": "python"
    }
   },
   "outputs": [],
   "source": []
  }
 ],
 "metadata": {
  "kernelspec": {
   "display_name": "Python 3 (ipykernel)",
   "language": "python",
   "name": "python3"
  },
  "language_info": {
   "codemirror_mode": {
    "name": "ipython",
    "version": 3
   },
   "file_extension": ".py",
   "mimetype": "text/x-python",
   "name": "python",
   "nbconvert_exporter": "python",
   "pygments_lexer": "ipython3",
   "version": "3.11.4"
  }
 },
 "nbformat": 4,
 "nbformat_minor": 5
}
